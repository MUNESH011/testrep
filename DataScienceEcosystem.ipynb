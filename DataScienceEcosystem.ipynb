{
 "cells": [
  {
   "cell_type": "markdown",
   "id": "17b40d99-f25c-4fa3-a24a-1da1cb78493a",
   "metadata": {},
   "source": [
    "# Data Science Tools and Ecosystem\r\n"
   ]
  },
  {
   "cell_type": "markdown",
   "id": "6dc99da8-4458-4299-abc9-677da6d237ef",
   "metadata": {},
   "source": [
    "In this notebook, Data Science Tools and Ecosystem are summarized.\r\n"
   ]
  },
  {
   "cell_type": "markdown",
   "id": "0f70f26d-2944-45e3-8f71-bfd750b195fd",
   "metadata": {},
   "source": [
    "Some of the popular languages that Data Scientists use are:\r\n",
    "1. Python\r\n",
    "2. R\r\n",
    "3. Julia\r\n"
   ]
  },
  {
   "cell_type": "markdown",
   "id": "cb25f42a-dce9-4e51-a7f7-787846beb8c7",
   "metadata": {},
   "source": [
    "**Objectives:**\r\n",
    "\r\n",
    "- List popular languages for Data Science.\r\n",
    "- Introduce commonly used libraries in Data Science.\r\n",
    "- Present three development environment open source tools used in Data Science.\r\n",
    "- Explore examples of evaluating arithmetic expressions in Python.\r\n",
    "- Demonstrate converting minutes to hours through a simple Python expression.\r\n"
   ]
  },
  {
   "cell_type": "markdown",
   "id": "871ccaa0-9e6e-4b96-8b90-500917bec33c",
   "metadata": {},
   "source": [
    "Some of the commonly used libraries used by Data Scientists include:\r\n",
    "\r\n",
    "1. **NumPy**: A fundamental package for scientific computing in Python, providing support for large, multi-dimensional arrays and matrices.\r\n",
    "\r\n",
    "2. **Pandas**: A powerful data manipulation and analysis library for Python, widely used for handling structured data with its DataFrame object.\r\n",
    "\r\n",
    "3. **scikit-learn**: An open-source machine learning library in Python, offering simple and efficient tools for data analysis and modeling.\r\n",
    "\r\n",
    "4. **TensorFlow**: Developed by Google, this open-source library is widely used for machine learning and deep learning applications.\r\n",
    "\r\n",
    "5. **Matplotlib**: A popular 2D plotting library for Python that produces high-quality graphs and visualizations.\r\n",
    "\r\n",
    "6. **Seaborn**: Built on top of Matplotlib, Seaborn provides an additional interface for statistical data visualization with beautiful and informativ graphics.\r\n",
    "\r\n",
    "7. **PyTorch**: A deep learning library widely used for tasks like natural language processing and coter vision.\r\n",
    "\r\n",
    "lib\r\n"
   ]
  },
  {
   "cell_type": "markdown",
   "id": "41bcac51-2fd9-4549-8080-100edee74b07",
   "metadata": {},
   "source": [
    "| Data Science Tools   |\r\n",
    "|----------------------|\r\n",
    "| Jupyter Notebooks    |\r\n",
    "| RStudio              |\r\n",
    "| VSCode (Visual Studio Code) |\r\n",
    "  |\r\n"
   ]
  },
  {
   "cell_type": "markdown",
   "id": "b7b47faf-5866-4836-aec3-ffde6a98c0a5",
   "metadata": {},
   "source": [
    "### Below are a few examples of evaluating arithmetic expressions in Python.\r\n"
   ]
  },
  {
   "cell_type": "code",
   "execution_count": 5,
   "id": "d2cff51e-01a3-480e-aab5-8321889d7d89",
   "metadata": {},
   "outputs": [
    {
     "data": {
      "text/plain": [
       "17"
      ]
     },
     "execution_count": 5,
     "metadata": {},
     "output_type": "execute_result"
    }
   ],
   "source": [
    "# This is a simple arithmetic expression to multiply then add integers.\n",
    "(3 * 4) + 5\n"
   ]
  },
  {
   "cell_type": "code",
   "execution_count": 6,
   "id": "11c51c5a-f63f-463e-8f41-dc20f92e6e94",
   "metadata": {},
   "outputs": [
    {
     "data": {
      "text/plain": [
       "3.3333333333333335"
      ]
     },
     "execution_count": 6,
     "metadata": {},
     "output_type": "execute_result"
    }
   ],
   "source": [
    "# This will convert 200 minutes to hours by dividing by 60.\n",
    "200 / 60\n"
   ]
  },
  {
   "cell_type": "markdown",
   "id": "cba6c0cf-98c6-43ea-9912-d9adcf23716f",
   "metadata": {},
   "source": [
    "## Author\r",
    "Munesh Tripathi\r\n"
   ]
  }
 ],
 "metadata": {
  "kernelspec": {
   "display_name": "Python 3 (ipykernel)",
   "language": "python",
   "name": "python3"
  },
  "language_info": {
   "codemirror_mode": {
    "name": "ipython",
    "version": 3
   },
   "file_extension": ".py",
   "mimetype": "text/x-python",
   "name": "python",
   "nbconvert_exporter": "python",
   "pygments_lexer": "ipython3",
   "version": "3.11.5"
  }
 },
 "nbformat": 4,
 "nbformat_minor": 5
}
